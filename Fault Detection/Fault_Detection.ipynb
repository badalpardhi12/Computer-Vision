{
 "cells": [
  {
   "cell_type": "code",
   "execution_count": 7,
   "metadata": {},
   "outputs": [
    {
     "name": "stdout",
     "output_type": "stream",
     "text": [
      "Enter Image path to recognize defects in: spade-terminal.png\n"
     ]
    }
   ],
   "source": [
    "import cv2\n",
    "import numpy as np\n",
    "# taking image path or name from user\n",
    "path = input('Enter Image path to recognize defects in: ')\n",
    "# Read image\n",
    "img = cv2.imread(path)\n",
    "img = cv2.imread(path,cv2.IMREAD_GRAYSCALE)\n",
    "\n",
    "_,binary = cv2.threshold(img, 128, 255, cv2.THRESH_BINARY)\n",
    "\n",
    "# clean up\n",
    "ke = np.ones((5,5), dtype=np.uint8)\n",
    "dst = cv2.morphologyEx(binary,cv2.MORPH_CLOSE,ke)\n",
    "dst = cv2.bitwise_not(dst)\n",
    "\n",
    "# detecting contours\n",
    "cont, hier = cv2.findContours(dst, cv2.RETR_TREE, cv2.CHAIN_APPROX_SIMPLE) \n",
    "areas = []\n",
    "for i in range (len(cont)):\n",
    "    areas.append(cv2.contourArea(cont[i]))\n",
    "\n",
    "# storing indices of coutours with spades \n",
    "spadeIndex = []\n",
    "for i in range(len(areas)):\n",
    "    if(areas[i]> 7000 and areas[i]<9000):\n",
    "        spadeIndex.append(i)\n",
    "\n",
    "# storing contour information on spade indices\n",
    "spadeContours = []\n",
    "for i in range(len(spadeIndex)):\n",
    "    spadeContours.append(cont[spadeIndex[i]])\n",
    "    \n",
    "dist1 = []\n",
    "dist2 = []\n",
    "dist3 = []\n",
    "for i in range(len(spadeContours)):\n",
    "    dist1.append(cv2.matchShapes(spadeContours[28],spadeContours[i],cv2.CONTOURS_MATCH_I1,0))\n",
    "    dist2.append(cv2.matchShapes(spadeContours[28],spadeContours[i],cv2.CONTOURS_MATCH_I2,0))\n",
    "    dist3.append(cv2.matchShapes(spadeContours[28],spadeContours[i],cv2.CONTOURS_MATCH_I3,0))\n",
    "\n",
    "correctSpades = []\n",
    "incorrectSpades = []\n",
    "for i in range(len(dist1)):\n",
    "    if (dist2[i]<1):\n",
    "        correctSpades.append(spadeContours[i])\n",
    "    else:\n",
    "        incorrectSpades.append(spadeContours[i])\n",
    "\n",
    "img3 = img.copy();\n",
    "img3 = cv2.cvtColor(img3, cv2.COLOR_GRAY2RGB)\n",
    "for i in range(len(incorrectSpades)):\n",
    "    img3 = cv2.drawContours(img3, incorrectSpades, -1, (0,0,255),-1)\n",
    "    \n",
    "# scaling the image\n",
    "scale_percent = 40 # percent of original size\n",
    "width = int(img3.shape[1] * scale_percent / 100)\n",
    "height = int(img3.shape[0] * scale_percent / 100)\n",
    "dim = (width, height)\n",
    "  \n",
    "# resize image\n",
    "img3 = cv2.resize(img3, dim, interpolation = cv2.INTER_AREA)\n",
    "cv2.imwrite(\"spade-terminal-output.png\", img3)\n",
    "cv2.imshow(\"Defects\", img3)\n",
    "cv2.waitKey()\n",
    "cv2.destroyAllWindows()"
   ]
  },
  {
   "cell_type": "code",
   "execution_count": null,
   "metadata": {},
   "outputs": [],
   "source": []
  }
 ],
 "metadata": {
  "kernelspec": {
   "display_name": "Python 3",
   "language": "python",
   "name": "python3"
  },
  "language_info": {
   "codemirror_mode": {
    "name": "ipython",
    "version": 3
   },
   "file_extension": ".py",
   "mimetype": "text/x-python",
   "name": "python",
   "nbconvert_exporter": "python",
   "pygments_lexer": "ipython3",
   "version": "3.8.5"
  }
 },
 "nbformat": 4,
 "nbformat_minor": 4
}

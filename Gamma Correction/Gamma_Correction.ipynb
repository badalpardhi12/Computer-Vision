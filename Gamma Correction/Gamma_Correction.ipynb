{
 "cells": [
  {
   "cell_type": "code",
   "execution_count": 2,
   "metadata": {},
   "outputs": [
    {
     "name": "stdout",
     "output_type": "stream",
     "text": [
      "Enter the image you want to perform gamma correction on: smiley.jpg\n",
      "Enter the gamma correction value: 1.2\n",
      "Type 1 if you want to change gamma value, type 2 if you want to save the corrected image:1\n",
      "Enter the gamma correction value: 1.5\n",
      "Type 1 if you want to change gamma value, type 2 if you want to save the corrected image:2\n"
     ]
    }
   ],
   "source": [
    "# importing libraries\n",
    "\n",
    "import numpy as np\n",
    "import cv2\n",
    "\n",
    "# defining a function for gamma correction\n",
    "def GammaC(src, gamma):\n",
    "    invGamma = 1 / gamma # taking inverse gamma\n",
    " \n",
    "    table = [((i / 255) ** invGamma) * 255 for i in range(256)]   # lookup table calculation\n",
    "    table = np.array(table, np.uint8)\n",
    " \n",
    "    return cv2.LUT(src, table) # returning gamma corrected value\n",
    "\n",
    "# taking image path or name from user\n",
    "\n",
    "path = input('Enter the image you want to perform gamma correction on: ')\n",
    "image = cv2.imread(path)\n",
    "\n",
    "# setting up flag variable\n",
    "done = 1\n",
    "# repeatative loop for iterating on value of gamma\n",
    "while (done==1):\n",
    "    gamma = float(input('Enter the gamma correction value: ')) # taking input gamma value\n",
    "    image_g = GammaC(image, gamma) # calling gamma function\n",
    "\n",
    "    cv2.imshow('original', image) # displaying original image\n",
    "    cv2.imshow('gamma corrected', image_g) # displaying gamma corrected image\n",
    "    cv2.waitKey(0)\n",
    "    cv2.destroyAllWindows()\n",
    "    # asking user if the value of gamma needs to change or save the current configuration\n",
    "    done = int(input('Enter 1 if you want to change gamma value, enter 2 if you want to save the corrected image:'))\n",
    "\n",
    "if done == 2:\n",
    "    cv2.imwrite(path+'_corrected.jpg', image_g)\n",
    "        "
   ]
  },
  {
   "cell_type": "code",
   "execution_count": null,
   "metadata": {},
   "outputs": [],
   "source": []
  },
  {
   "cell_type": "code",
   "execution_count": null,
   "metadata": {},
   "outputs": [],
   "source": [
    "print"
   ]
  }
 ],
 "metadata": {
  "kernelspec": {
   "display_name": "Python 3",
   "language": "python",
   "name": "python3"
  },
  "language_info": {
   "codemirror_mode": {
    "name": "ipython",
    "version": 3
   },
   "file_extension": ".py",
   "mimetype": "text/x-python",
   "name": "python",
   "nbconvert_exporter": "python",
   "pygments_lexer": "ipython3",
   "version": "3.8.5"
  }
 },
 "nbformat": 4,
 "nbformat_minor": 4
}

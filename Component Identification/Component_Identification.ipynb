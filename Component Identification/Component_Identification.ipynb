{
 "cells": [
  {
   "cell_type": "code",
   "execution_count": 1,
   "metadata": {},
   "outputs": [
    {
     "name": "stdout",
     "output_type": "stream",
     "text": [
      "Enter Image path to recognize shape: all-parts.png\n"
     ]
    }
   ],
   "source": [
    "import cv2\n",
    "import numpy as np\n",
    "\n",
    "# taking image path or name from user\n",
    "path = input('Enter Image path to recognize shape: ')\n",
    "# Read image\n",
    "img = cv2.imread(path)\n",
    "\n",
    "# check size (bounding box) is square\n",
    "def isSquare(siz):\n",
    "    ratio = abs(siz[0] - siz[1]) / siz[0]\n",
    "    #print (siz, ratio)\n",
    "    if ratio < 0.1:\n",
    "        return True\n",
    "    else:\n",
    "        return False\n",
    "\n",
    "# chekc circle from the arc length ratio\n",
    "def isCircle(cnt):\n",
    "    (x,y),radius = cv2.minEnclosingCircle(cnt)\n",
    "    len = cv2.arcLength(cnt, True)\n",
    "    ratio = abs(len - np.pi * 2.0 * radius) / (np.pi * 2.0 * radius)\n",
    "    #print(ratio)\n",
    "    if ratio < 0.1:\n",
    "        return True\n",
    "    else:\n",
    "        return False\n",
    "\n",
    "# Convert to gray-scale\n",
    "gray = cv2.cvtColor(img, cv2.COLOR_BGR2GRAY)\n",
    "\n",
    "# Binary\n",
    "thr,dst = cv2.threshold(gray, 60, 255, cv2.THRESH_BINARY)\n",
    "\n",
    "# clean up\n",
    "kd = np.ones((3,3), dtype=np.uint8)\n",
    "ke = np.ones((5,5), dtype=np.uint8)\n",
    "\n",
    "dst = cv2.morphologyEx(dst,cv2.MORPH_CLOSE,ke)\n",
    "for i in range(1):\n",
    "     dst = cv2.dilate(dst, kd)\n",
    "\n",
    "# find contours with hierachy\n",
    "cont, hier = cv2.findContours(dst, cv2.RETR_TREE, cv2.CHAIN_APPROX_SIMPLE)\n",
    "# each contoure\n",
    "for i in range(len(cont)):\n",
    "    c = cont[i]\n",
    "    h = hier[0,i]\n",
    "    \n",
    "    if h[2] == -1 and h[3] == 0:\n",
    "        # no child and parent is image outer\n",
    "        img = cv2.drawContours(img, cont, i, (0,0,255),-1)\n",
    "    elif h[3] == 0 and hier[0,h[2]][2] == -1:\n",
    "        # with child\n",
    "        if isCircle(c):\n",
    "            if isCircle(cont[h[2]]):\n",
    "                # double circle\n",
    "                img = cv2.drawContours(img, cont, i, (0,255,0),-1)\n",
    "        else:\n",
    "            # 1 child and shape bounding box is not squre \n",
    "            if not isSquare(cv2.minAreaRect(c)[1]) and hier[0,h[2]][0] == -1 and hier[0,h[2]][1] == -1:\n",
    "                img = cv2.drawContours(img, cont, i, (255,0, 0),-1)\n",
    "            else:\n",
    "                img = cv2.drawContours(img, cont, i, (0,255,255),-1)\n",
    "    elif h[0] == -1 and not isCircle(c) and hier[0,h[2]][0] == -1:\n",
    "        img = cv2.drawContours(img, cont, i, (255,0,127),-1)\n",
    "        \n",
    "# scaling the image\n",
    "scale_percent = 40 # percent of original size\n",
    "width = int(img.shape[1] * scale_percent / 100)\n",
    "height = int(img.shape[0] * scale_percent / 100)\n",
    "dim = (width, height)\n",
    "  \n",
    "# resize image\n",
    "img = cv2.resize(img, dim, interpolation = cv2.INTER_AREA)\n",
    "cv2.imshow(\"Image\", img)\n",
    "cv2.imwrite(\"all-parts-output.png\", img)\n",
    "cv2.waitKey()\n",
    "cv2.destroyAllWindows()"
   ]
  },
  {
   "cell_type": "code",
   "execution_count": null,
   "metadata": {},
   "outputs": [],
   "source": []
  }
 ],
 "metadata": {
  "kernelspec": {
   "display_name": "Python 3",
   "language": "python",
   "name": "python3"
  },
  "language_info": {
   "codemirror_mode": {
    "name": "ipython",
    "version": 3
   },
   "file_extension": ".py",
   "mimetype": "text/x-python",
   "name": "python",
   "nbconvert_exporter": "python",
   "pygments_lexer": "ipython3",
   "version": "3.8.5"
  }
 },
 "nbformat": 4,
 "nbformat_minor": 4
}
